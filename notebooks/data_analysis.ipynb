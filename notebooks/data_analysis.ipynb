{
 "cells": [
  {
   "cell_type": "code",
   "execution_count": null,
   "id": "f7435773",
   "metadata": {},
   "outputs": [
    {
     "ename": "AttributeError",
     "evalue": "'str' object has no attribute 'iterdir'",
     "output_type": "error",
     "traceback": [
      "\u001b[31m---------------------------------------------------------------------------\u001b[39m",
      "\u001b[31mAttributeError\u001b[39m                            Traceback (most recent call last)",
      "\u001b[36mCell\u001b[39m\u001b[36m \u001b[39m\u001b[32mIn[5]\u001b[39m\u001b[32m, line 20\u001b[39m\n\u001b[32m     16\u001b[39m     \u001b[38;5;28;01mreturn\u001b[39;00m \u001b[38;5;28mlen\u001b[39m([f \u001b[38;5;28;01mfor\u001b[39;00m f \u001b[38;5;129;01min\u001b[39;00m folder_path.iterdir() \u001b[38;5;28;01mif\u001b[39;00m f.suffix \u001b[38;5;129;01min\u001b[39;00m [\u001b[33m\"\u001b[39m\u001b[33m.jpg\u001b[39m\u001b[33m\"\u001b[39m, \u001b[33m\"\u001b[39m\u001b[33m.jpeg\u001b[39m\u001b[33m\"\u001b[39m, \u001b[33m\"\u001b[39m\u001b[33m.png\u001b[39m\u001b[33m\"\u001b[39m]])\n\u001b[32m     18\u001b[39m \u001b[38;5;66;03m# Class distribution\u001b[39;00m\n\u001b[32m     19\u001b[39m counts = {\n\u001b[32m---> \u001b[39m\u001b[32m20\u001b[39m     \u001b[33m\"\u001b[39m\u001b[33mWildfire\u001b[39m\u001b[33m\"\u001b[39m: \u001b[43mcount_images\u001b[49m\u001b[43m(\u001b[49m\u001b[43mwildfire_dir\u001b[49m\u001b[43m)\u001b[49m,\n\u001b[32m     21\u001b[39m     \u001b[33m\"\u001b[39m\u001b[33mNon-Wildfire\u001b[39m\u001b[33m\"\u001b[39m: count_images(non_wildfire_dir)\n\u001b[32m     22\u001b[39m }\n\u001b[32m     24\u001b[39m \u001b[38;5;66;03m# Bar plot of class distribution\u001b[39;00m\n\u001b[32m     25\u001b[39m plt.figure(figsize=(\u001b[32m6\u001b[39m,\u001b[32m4\u001b[39m))\n",
      "\u001b[36mCell\u001b[39m\u001b[36m \u001b[39m\u001b[32mIn[5]\u001b[39m\u001b[32m, line 16\u001b[39m, in \u001b[36mcount_images\u001b[39m\u001b[34m(folder_path)\u001b[39m\n\u001b[32m     15\u001b[39m \u001b[38;5;28;01mdef\u001b[39;00m\u001b[38;5;250m \u001b[39m\u001b[34mcount_images\u001b[39m(folder_path):\n\u001b[32m---> \u001b[39m\u001b[32m16\u001b[39m     \u001b[38;5;28;01mreturn\u001b[39;00m \u001b[38;5;28mlen\u001b[39m([f \u001b[38;5;28;01mfor\u001b[39;00m f \u001b[38;5;129;01min\u001b[39;00m \u001b[43mfolder_path\u001b[49m\u001b[43m.\u001b[49m\u001b[43miterdir\u001b[49m() \u001b[38;5;28;01mif\u001b[39;00m f.suffix \u001b[38;5;129;01min\u001b[39;00m [\u001b[33m\"\u001b[39m\u001b[33m.jpg\u001b[39m\u001b[33m\"\u001b[39m, \u001b[33m\"\u001b[39m\u001b[33m.jpeg\u001b[39m\u001b[33m\"\u001b[39m, \u001b[33m\"\u001b[39m\u001b[33m.png\u001b[39m\u001b[33m\"\u001b[39m]])\n",
      "\u001b[31mAttributeError\u001b[39m: 'str' object has no attribute 'iterdir'"
     ]
    }
   ],
   "source": [
    "# wildfire_analysis.ipynb\n",
    "\n",
    "import os\n",
    "import cv2\n",
    "import matplotlib.pyplot as plt\n",
    "import seaborn as sns\n",
    "from pathlib import Path\n",
    "from collections import Counter\n",
    "\n",
    "# Set data directory\n",
    "data_dir = Path(r\".\\data\\\\wildfire_images\\\\train\\\\\")\n",
    "wildfire_dir = os.path.realpath(r\"C:\\Users\\sahasuka\\OneDrive - Intel Corporation\\Documents\\GitHub\\MultiMod-AI-Agent\\data\\wildfire_images\\train\\fire\")\n",
    "non_wildfire_dir = os.path.realpath(r\"C:\\Users\\sahasuka\\OneDrive - Intel Corporation\\Documents\\GitHub\\MultiMod-AI-Agent\\data\\wildfire_images\\train\\nofire\")\n",
    "\n",
    "def count_images(folder_path):\n",
    "    return len([f for f in folder_path.iterdir() if f.suffix in [\".jpg\", \".jpeg\", \".png\"]])\n",
    "\n",
    "# Class distribution\n",
    "counts = {\n",
    "    \"Wildfire\": count_images(wildfire_dir),\n",
    "    \"Non-Wildfire\": count_images(non_wildfire_dir)\n",
    "}\n",
    "\n",
    "# Bar plot of class distribution\n",
    "plt.figure(figsize=(6,4))\n",
    "sns.barplot(x=list(counts.keys()), y=list(counts.values()), palette=\"flare\")\n",
    "plt.title(\"Wildfire Dataset Class Distribution\")\n",
    "plt.ylabel(\"Number of Images\")\n",
    "plt.show()\n"
   ]
  }
 ],
 "metadata": {
  "kernelspec": {
   "display_name": "aivenv",
   "language": "python",
   "name": "python3"
  },
  "language_info": {
   "codemirror_mode": {
    "name": "ipython",
    "version": 3
   },
   "file_extension": ".py",
   "mimetype": "text/x-python",
   "name": "python",
   "nbconvert_exporter": "python",
   "pygments_lexer": "ipython3",
   "version": "3.13.3"
  }
 },
 "nbformat": 4,
 "nbformat_minor": 5
}
